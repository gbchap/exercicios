{
 "cells": [
  {
   "cell_type": "markdown",
   "metadata": {},
   "source": [
    "# Projeto Python IA: Inteligência Artificial e Previsões\n",
    "\n",
    "### Case: Score de Crédito dos Clientes\n",
    "\n",
    "Você foi contratado por um banco para conseguir definir o score de crédito dos clientes. Você precisa analisar todos os clientes do banco e, com base nessa análise, criar um modelo que consiga ler as informações do cliente e dizer automaticamente o score de crédito dele: Ruim, Ok, Bom\n",
    "\n",
    "Arquivos da aula: https://drive.google.com/drive/folders/1FbDqVq4XLvU85VBlVIMJ73p9oOu6u2-J?usp=drive_link"
   ]
  },
  {
   "cell_type": "code",
   "execution_count": null,
   "metadata": {},
   "outputs": [],
   "source": [
    "import pandas as pd\n",
    "\n",
    "tabela = pd.read_csv('C:/Users/Gabriela/Desktop/github/projeto.python/aula3/clientes.csv')\n",
    "display(tabela)\n",
    "display(tabela.info())\n"
   ]
  },
  {
   "cell_type": "markdown",
   "metadata": {},
   "source": [
    "Não há problemas com colunas mal preenchidas nessa base de dados em específico. Porém, vemos que há algumas colunas em que os dados são strings (profissao, mix_credito, comportamento_pagamento). Temos que transformá-las em números para que os modelos de IA possam aprender efetivamente. Para isso, utilizaremos o label encoder.\n",
    "\n",
    "Exclui-se o score_credito desse processo pois a IA dará a resposta por ele, ou seja, ele não participará da análise, e sim do retorno da informação apenas."
   ]
  },
  {
   "cell_type": "code",
   "execution_count": null,
   "metadata": {},
   "outputs": [],
   "source": [
    "from sklearn.preprocessing import LabelEncoder \n",
    "\n",
    "codificador1 = LabelEncoder()\n",
    "tabela['profissao'] = codificador1.fit_transform(tabela['profissao'])\n",
    "\n",
    "codificador2 = LabelEncoder()\n",
    "tabela['mix_credito'] = codificador2.fit_transform(tabela['mix_credito'])\n",
    "\n",
    "codificador3 = LabelEncoder()\n",
    "tabela['comportamento_pagamento'] = codificador3.fit_transform(tabela['comportamento_pagamento'])\n",
    "\n",
    "display(tabela.info())"
   ]
  },
  {
   "cell_type": "markdown",
   "metadata": {},
   "source": [
    "Agora que tudo já foi resolvido, faremos o processo de treinamento da inteligência artifical que usaremos para prever tendências de comportamento do cliente, baseando-se nos dados que já possuímos."
   ]
  },
  {
   "cell_type": "code",
   "execution_count": 44,
   "metadata": {},
   "outputs": [],
   "source": [
    "# axis=1 significa colunas e axis=0 dignifica linhas. Quando não definido, padrão é 0. Mas\n",
    "# nesse caso nem precisa porque o código já sabe que é uma coluna.\n",
    "\n",
    "x = tabela.drop(['score_credito', 'id_cliente'], axis=1)\n",
    "y = tabela['score_credito']\n",
    "\n",
    "from sklearn.model_selection import train_test_split as treino\n",
    "\n",
    "(x_treino, x_teste, y_treino, y_teste) = treino(x,y,test_size=0.3) #porcentagem do tamanho do teste.\n",
    "# Cuidado ao utilizar os mesmos dados para treino e para teste, porque a IA responde com infos decoradas.\n"
   ]
  },
  {
   "cell_type": "markdown",
   "metadata": {},
   "source": [
    "Criaremos, nesse momento, duas opções de análise de IA, com duas IAs diferentes. A que performar melhor será usada para previsões."
   ]
  },
  {
   "cell_type": "code",
   "execution_count": null,
   "metadata": {},
   "outputs": [],
   "source": [
    "#TREINO\n",
    "\n",
    "from sklearn.ensemble import RandomForestClassifier\n",
    "from sklearn.neighbors import KNeighborsClassifier \n",
    "\n",
    "modelo_floresta = RandomForestClassifier()\n",
    "modelo_knn = KNeighborsClassifier()\n",
    "\n",
    "modelo_floresta.fit(x_treino, y_treino)\n",
    "modelo_knn.fit(x_treino, y_treino)"
   ]
  },
  {
   "cell_type": "markdown",
   "metadata": {},
   "source": [
    "O próximo passo é checar a acurácia dos modelos utilizando um teste."
   ]
  },
  {
   "cell_type": "code",
   "execution_count": null,
   "metadata": {},
   "outputs": [],
   "source": [
    "#teste (prever um resultado baseado no x_teste):\n",
    "previsao_floresta = modelo_floresta.predict(x_teste)\n",
    "previsao_knn = modelo_knn.predict(x_teste)\n",
    "\n",
    "#acurácia (comparar esse resultado com o y_teste):\n",
    "\n",
    "from sklearn.metrics import accuracy_score\n",
    "\n",
    "display(accuracy_score(y_teste, previsao_floresta))\n",
    "display(accuracy_score(y_teste, previsao_knn))"
   ]
  },
  {
   "cell_type": "markdown",
   "metadata": {},
   "source": [
    "Assim, notamos que o primeiro teste foi o mais satisfatório, o que nos diz que o modelo da Random Forest foi o melhor, com 82% de acurácia. O próximo passo é aplicar esse modelo nos dados dos novos clientes, para prever seus resultados, assim como é o objetivo da empresa."
   ]
  },
  {
   "cell_type": "code",
   "execution_count": null,
   "metadata": {},
   "outputs": [],
   "source": [
    "nova_tabela = pd.read_csv('C:/Users/Gabriela/Desktop/github/projeto.python/aula3/novos_clientes.csv')\n",
    "display(nova_tabela)\n",
    "\n",
    "#copiar códigos antigos.\n",
    "\n",
    "codificador1 = LabelEncoder()\n",
    "nova_tabela['profissao'] = codificador1.fit_transform(nova_tabela['profissao'])\n",
    "\n",
    "codificador2 = LabelEncoder()\n",
    "nova_tabela['mix_credito'] = codificador2.fit_transform(nova_tabela['mix_credito'])\n",
    "\n",
    "codificador3 = LabelEncoder()\n",
    "nova_tabela['comportamento_pagamento'] = codificador3.fit_transform(nova_tabela['comportamento_pagamento'])\n",
    "\n",
    "display(nova_tabela.info())\n",
    "\n",
    "#último passo... prever um resultado baseado na nova_tabela, assim como fizemos no teste:\n",
    "\n",
    "previsao = modelo_floresta.predict(nova_tabela)\n",
    "display(previsao)\n",
    "\n",
    "#joblib\n",
    "#picket"
   ]
  }
 ],
 "metadata": {
  "kernelspec": {
   "display_name": "Python 3",
   "language": "python",
   "name": "python3"
  },
  "language_info": {
   "codemirror_mode": {
    "name": "ipython",
    "version": 3
   },
   "file_extension": ".py",
   "mimetype": "text/x-python",
   "name": "python",
   "nbconvert_exporter": "python",
   "pygments_lexer": "ipython3",
   "version": "3.12.4"
  },
  "orig_nbformat": 4
 },
 "nbformat": 4,
 "nbformat_minor": 2
}
